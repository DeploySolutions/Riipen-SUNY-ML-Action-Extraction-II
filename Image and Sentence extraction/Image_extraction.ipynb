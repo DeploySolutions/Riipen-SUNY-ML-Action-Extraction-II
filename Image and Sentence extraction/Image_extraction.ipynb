{
 "cells": [
  {
   "cell_type": "code",
   "execution_count": 0,
   "metadata": {
    "collapsed": false
   },
   "outputs": [
   ],
   "source": [
    "#Extract all images\n",
    "\n",
    "from __future__ import print_function\n",
    "import fitz\n",
    "import sys, time, re\n",
    "\n",
    "checkXO = r\"/Type(?= */XObject)\"       # finds \"/Type/XObject\"   \n",
    "checkIM = r\"/Subtype(?= */Image)\"      # finds \"/Subtype/Image\"\n",
    "\n",
    "import boto3\n",
    "s3 = boto3.resource('s3')\n",
    "obj = s3.Object(bucketname, itemname)\n",
    "k = Key(bucket,itemname)\n",
    "k.get_contents_to_filename(destFileName)\n",
    "body = obj.get()['Body'].read()\n",
    "\n",
    "t0 = time.clock()\n",
    "doc = fitz.open(destFileName)\n",
    "imgcount = 0\n",
    "lenXREF = doc._getXrefLength()         # number of objects - do not use entry 0!\n",
    "\n",
    "# display some file info\n",
    "print(\"file: %s, pages: %s, objects: %s\" % (destFileName, len(doc), lenXREF-1))\n",
    "\n",
    "for i in range(1, lenXREF):            # scan through all objects\n",
    "    text = doc._getObjectString(i)     # string defining the object\n",
    "    isXObject = re.search(checkXO, text)    # tests for XObject\n",
    "    isImage   = re.search(checkIM, text)    # tests for Image\n",
    "    if not isXObject or not isImage:   # not an image object if not both True\n",
    "        continue\n",
    "    imgcount += 1\n",
    "    pix = fitz.Pixmap(doc, i)          # make pixmap from image\n",
    "    if pix.n < 5:                      # can be saved as PNG\n",
    "        pix.writePNG(\"img-%s.png\" % (i,))\n",
    "    else:                              # must convert the CMYK first\n",
    "        pix0 = fitz.Pixmap(fitz.csRGB, pix)\n",
    "        pix0.writePNG(\"img-%s.png\" % (i,))\n",
    "        pix0 = None                    # free Pixmap resources\n",
    "    pix = None                         # free Pixmap resources\n",
    "        \n",
    "t1 = time.clock()\n",
    "print(\"run time\", round(t1-t0, 2))\n",
    "print(\"extracted images\", imgcount)"
   ]
  },
  {
   "cell_type": "code",
   "execution_count": 0,
   "metadata": {
    "collapsed": false
   },
   "outputs": [
   ],
   "source": [
    "#Extract page refrenced images\n",
    "\n",
    "from __future__ import print_function\n",
    "import fitz\n",
    "import sys, time\n",
    "\n",
    "import boto3\n",
    "s3 = boto3.resource('s3')\n",
    "obj = s3.Object(bucketname, itemname)\n",
    "k = Key(bucket,itemname)\n",
    "k.get_contents_to_filename(destFileName)\n",
    "body = obj.get()['Body'].read()\n",
    "\n",
    "t0 = time.clock()\n",
    "doc = fitz.open(destFileName)\n",
    "imgcount = 0\n",
    "lenXREF = doc._getXrefLength()\n",
    "\n",
    "# display some file info\n",
    "print(\"file: %s, pages: %s, objects: %s\" % (destFileName, len(doc), lenXREF-1))\n",
    "\n",
    "for i in range(len(doc)):\n",
    "    imglist = doc.getPageImageList(i)\n",
    "    for img in imglist:\n",
    "        xref = img[0]                  # xref number\n",
    "        pix = fitz.Pixmap(doc, xref)   # make pixmap from image\n",
    "        imgcount += 1\n",
    "        if pix.n < 5:                  # can be saved as PNG\n",
    "            pix.writePNG(\"p%s-%s.png\" % (i, xref))\n",
    "        else:                          # must convert CMYK first\n",
    "            pix0 = fitz.Pixmap(fitz.csRGB, pix)\n",
    "            pix0.writePNG(\"p%s-%s.png\" % (i, xref))\n",
    "            pix0 = None                # free Pixmap resources\n",
    "        pix = None                     # free Pixmap resources\n",
    "\n",
    "t1 = time.clock()\n",
    "print(\"run time\", round(t1-t0, 2))\n",
    "print(\"extracted images\", imgcount)"
   ]
  }
 ],
 "metadata": {
  "kernelspec": {
   "display_name": "Python 3 (system-wide)",
   "language": "python",
   "metadata": {
    "cocalc": {
     "description": "Python 3 programming language",
     "priority": 100,
     "url": "https://www.python.org/"
    }
   },
   "name": "python3"
  },
  "language_info": {
   "codemirror_mode": {
    "name": "ipython",
    "version": 3
   },
   "file_extension": ".py",
   "mimetype": "text/x-python",
   "name": "python",
   "nbconvert_exporter": "python",
   "pygments_lexer": "ipython3",
   "version": "3.6.9"
  }
 },
 "nbformat": 4,
 "nbformat_minor": 4
}